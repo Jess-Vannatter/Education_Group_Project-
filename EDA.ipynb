{
 "cells": [
  {
   "cell_type": "code",
   "execution_count": 1,
   "id": "27d12cf3-b7b2-4b02-86af-9eb61189e470",
   "metadata": {},
   "outputs": [],
   "source": [
    "# Importing required libraries\n",
    "import pandas as pd\n",
    "import numpy as np\n",
    "import seaborn as sn\n",
    "import matplotlib as mpl\n",
    "import matplotlib.pyplot as plt\n",
    "import warnings\n",
    "warnings.filterwarnings('ignore')"
   ]
  },
  {
   "cell_type": "code",
   "execution_count": 3,
   "id": "cb089ba1-a44f-4058-9c44-f15d9d187105",
   "metadata": {},
   "outputs": [
    {
     "data": {
      "text/html": [
       "<div>\n",
       "<style scoped>\n",
       "    .dataframe tbody tr th:only-of-type {\n",
       "        vertical-align: middle;\n",
       "    }\n",
       "\n",
       "    .dataframe tbody tr th {\n",
       "        vertical-align: top;\n",
       "    }\n",
       "\n",
       "    .dataframe thead th {\n",
       "        text-align: right;\n",
       "    }\n",
       "</style>\n",
       "<table border=\"1\" class=\"dataframe\">\n",
       "  <thead>\n",
       "    <tr style=\"text-align: right;\">\n",
       "      <th></th>\n",
       "      <th>Student_ID</th>\n",
       "      <th>Sex</th>\n",
       "      <th>Ethnicity</th>\n",
       "      <th>PLE</th>\n",
       "      <th>Lunch</th>\n",
       "      <th>Test_Prep</th>\n",
       "      <th>Math_Score</th>\n",
       "      <th>Reading_Score</th>\n",
       "      <th>Writing_Score</th>\n",
       "    </tr>\n",
       "  </thead>\n",
       "  <tbody>\n",
       "    <tr>\n",
       "      <th>0</th>\n",
       "      <td>1</td>\n",
       "      <td>female</td>\n",
       "      <td>group D</td>\n",
       "      <td>some college</td>\n",
       "      <td>standard</td>\n",
       "      <td>completed</td>\n",
       "      <td>59</td>\n",
       "      <td>70</td>\n",
       "      <td>78</td>\n",
       "    </tr>\n",
       "    <tr>\n",
       "      <th>1</th>\n",
       "      <td>2</td>\n",
       "      <td>male</td>\n",
       "      <td>group D</td>\n",
       "      <td>associate degree</td>\n",
       "      <td>standard</td>\n",
       "      <td>none</td>\n",
       "      <td>96</td>\n",
       "      <td>93</td>\n",
       "      <td>87</td>\n",
       "    </tr>\n",
       "    <tr>\n",
       "      <th>2</th>\n",
       "      <td>3</td>\n",
       "      <td>female</td>\n",
       "      <td>group D</td>\n",
       "      <td>some college</td>\n",
       "      <td>reduced</td>\n",
       "      <td>none</td>\n",
       "      <td>57</td>\n",
       "      <td>76</td>\n",
       "      <td>77</td>\n",
       "    </tr>\n",
       "    <tr>\n",
       "      <th>3</th>\n",
       "      <td>4</td>\n",
       "      <td>male</td>\n",
       "      <td>group B</td>\n",
       "      <td>some college</td>\n",
       "      <td>reduced</td>\n",
       "      <td>none</td>\n",
       "      <td>70</td>\n",
       "      <td>70</td>\n",
       "      <td>63</td>\n",
       "    </tr>\n",
       "    <tr>\n",
       "      <th>4</th>\n",
       "      <td>5</td>\n",
       "      <td>female</td>\n",
       "      <td>group D</td>\n",
       "      <td>associate degree</td>\n",
       "      <td>standard</td>\n",
       "      <td>none</td>\n",
       "      <td>83</td>\n",
       "      <td>85</td>\n",
       "      <td>86</td>\n",
       "    </tr>\n",
       "    <tr>\n",
       "      <th>5</th>\n",
       "      <td>6</td>\n",
       "      <td>male</td>\n",
       "      <td>group C</td>\n",
       "      <td>some high school</td>\n",
       "      <td>standard</td>\n",
       "      <td>none</td>\n",
       "      <td>68</td>\n",
       "      <td>57</td>\n",
       "      <td>54</td>\n",
       "    </tr>\n",
       "    <tr>\n",
       "      <th>6</th>\n",
       "      <td>7</td>\n",
       "      <td>female</td>\n",
       "      <td>group E</td>\n",
       "      <td>associate degree</td>\n",
       "      <td>standard</td>\n",
       "      <td>none</td>\n",
       "      <td>82</td>\n",
       "      <td>83</td>\n",
       "      <td>80</td>\n",
       "    </tr>\n",
       "    <tr>\n",
       "      <th>7</th>\n",
       "      <td>8</td>\n",
       "      <td>female</td>\n",
       "      <td>group B</td>\n",
       "      <td>some high school</td>\n",
       "      <td>standard</td>\n",
       "      <td>none</td>\n",
       "      <td>46</td>\n",
       "      <td>61</td>\n",
       "      <td>58</td>\n",
       "    </tr>\n",
       "    <tr>\n",
       "      <th>8</th>\n",
       "      <td>9</td>\n",
       "      <td>male</td>\n",
       "      <td>group C</td>\n",
       "      <td>some high school</td>\n",
       "      <td>standard</td>\n",
       "      <td>none</td>\n",
       "      <td>80</td>\n",
       "      <td>75</td>\n",
       "      <td>73</td>\n",
       "    </tr>\n",
       "    <tr>\n",
       "      <th>9</th>\n",
       "      <td>10</td>\n",
       "      <td>female</td>\n",
       "      <td>group C</td>\n",
       "      <td>bachelor degree</td>\n",
       "      <td>standard</td>\n",
       "      <td>completed</td>\n",
       "      <td>57</td>\n",
       "      <td>69</td>\n",
       "      <td>77</td>\n",
       "    </tr>\n",
       "  </tbody>\n",
       "</table>\n",
       "</div>"
      ],
      "text/plain": [
       "   Student_ID     Sex Ethnicity               PLE     Lunch  Test_Prep  \\\n",
       "0           1  female   group D      some college  standard  completed   \n",
       "1           2    male   group D  associate degree  standard       none   \n",
       "2           3  female   group D      some college   reduced       none   \n",
       "3           4    male   group B      some college   reduced       none   \n",
       "4           5  female   group D  associate degree  standard       none   \n",
       "5           6    male   group C  some high school  standard       none   \n",
       "6           7  female   group E  associate degree  standard       none   \n",
       "7           8  female   group B  some high school  standard       none   \n",
       "8           9    male   group C  some high school  standard       none   \n",
       "9          10  female   group C   bachelor degree  standard  completed   \n",
       "\n",
       "   Math_Score  Reading_Score  Writing_Score  \n",
       "0          59             70             78  \n",
       "1          96             93             87  \n",
       "2          57             76             77  \n",
       "3          70             70             63  \n",
       "4          83             85             86  \n",
       "5          68             57             54  \n",
       "6          82             83             80  \n",
       "7          46             61             58  \n",
       "8          80             75             73  \n",
       "9          57             69             77  "
      ]
     },
     "execution_count": 3,
     "metadata": {},
     "output_type": "execute_result"
    }
   ],
   "source": [
    "# Load the student_exams.csv dataset.\n",
    "file_path = \"Resources/student_exams.csv\"\n",
    "stu_exams_df = pd.read_csv(file_path)\n",
    "stu_exams_df.head(10)"
   ]
  },
  {
   "cell_type": "code",
   "execution_count": 5,
   "id": "77379903-86f4-4e81-911b-1ed8b08744da",
   "metadata": {},
   "outputs": [
    {
     "data": {
      "text/plain": [
       "(1000, 9)"
      ]
     },
     "execution_count": 5,
     "metadata": {},
     "output_type": "execute_result"
    }
   ],
   "source": [
    "stu_exams_df.shape"
   ]
  },
  {
   "cell_type": "code",
   "execution_count": 7,
   "id": "a1f1d6eb-f582-4c08-9c15-5104295a981d",
   "metadata": {},
   "outputs": [
    {
     "name": "stdout",
     "output_type": "stream",
     "text": [
      "<class 'pandas.core.frame.DataFrame'>\n",
      "RangeIndex: 1000 entries, 0 to 999\n",
      "Data columns (total 9 columns):\n",
      " #   Column         Non-Null Count  Dtype \n",
      "---  ------         --------------  ----- \n",
      " 0   Student_ID     1000 non-null   int64 \n",
      " 1   Sex            1000 non-null   object\n",
      " 2   Ethnicity      1000 non-null   object\n",
      " 3   PLE            1000 non-null   object\n",
      " 4   Lunch          1000 non-null   object\n",
      " 5   Test_Prep      1000 non-null   object\n",
      " 6   Math_Score     1000 non-null   int64 \n",
      " 7   Reading_Score  1000 non-null   int64 \n",
      " 8   Writing_Score  1000 non-null   int64 \n",
      "dtypes: int64(4), object(5)\n",
      "memory usage: 70.4+ KB\n"
     ]
    }
   ],
   "source": [
    "stu_exams_df.info()"
   ]
  },
  {
   "cell_type": "code",
   "execution_count": 8,
   "id": "7da7b2de-2467-4d8b-8863-6d0d3f6fd515",
   "metadata": {},
   "outputs": [
    {
     "name": "stdout",
     "output_type": "stream",
     "text": [
      "Duplicated rows: (0, 9)\n"
     ]
    }
   ],
   "source": [
    "##Show rows with duplicate data\n",
    "duplicate_rows_df = stu_exams_df[stu_exams_df.duplicated()]\n",
    "print('Duplicated rows:', duplicate_rows_df.shape)"
   ]
  },
  {
   "cell_type": "code",
   "execution_count": 9,
   "id": "b925b00c-9f62-46e9-b030-eba55d5b7c64",
   "metadata": {},
   "outputs": [
    {
     "name": "stdout",
     "output_type": "stream",
     "text": [
      "male      508\n",
      "female    492\n",
      "Name: Sex, dtype: int64\n",
      "group C    323\n",
      "group D    257\n",
      "group B    198\n",
      "group E    143\n",
      "group A     79\n",
      "Name: Ethnicity, dtype: int64\n",
      "some college        224\n",
      "high school         215\n",
      "associate degree    204\n",
      "some high school    177\n",
      "bachelor degree     105\n",
      "master degree        75\n",
      "Name: PLE, dtype: int64\n",
      "standard    660\n",
      "reduced     340\n",
      "Name: Lunch, dtype: int64\n",
      "none         656\n",
      "completed    344\n",
      "Name: Test_Prep, dtype: int64\n"
     ]
    }
   ],
   "source": [
    "##Get value counts for catagorical data \n",
    "for i in stu_exams_df.columns:\n",
    "    if stu_exams_df[i].dtype != 'int64':\n",
    "        print(stu_exams_df[i].value_counts())"
   ]
  },
  {
   "cell_type": "code",
   "execution_count": 16,
   "id": "779969cb-b707-42e1-8142-3ab76914d639",
   "metadata": {},
   "outputs": [
    {
     "name": "stdout",
     "output_type": "stream",
     "text": [
      "-Sex\n",
      "female male\n",
      "-Ethnicity\n",
      "group D group B group C group E group A\n",
      "-PLE\n",
      "some college associate degree some high school bachelor degree master degree high school\n",
      "-Lunch\n",
      "standard reduced\n",
      "-Test_Prep\n",
      "completed none\n"
     ]
    }
   ],
   "source": [
    "#Check if any numerical data should be catagorical \n",
    "print('-Sex')\n",
    "print(*list(stu_exams_df.Sex.unique()))\n",
    "print('-Ethnicity')\n",
    "print(*list(stu_exams_df.Ethnicity.unique()))\n",
    "print('-PLE')\n",
    "print(*list(stu_exams_df.PLE.unique()))\n",
    "print('-Lunch')\n",
    "print(*list(stu_exams_df.Lunch.unique()))\n",
    "print('-Test_Prep')\n",
    "print(*list(stu_exams_df.Test_Prep.unique()))"
   ]
  },
  {
   "cell_type": "code",
   "execution_count": 10,
   "id": "cf3925b7-9e06-4a48-a495-d7a7668cbd89",
   "metadata": {},
   "outputs": [
    {
     "name": "stdout",
     "output_type": "stream",
     "text": [
      "0    male\n",
      "Name: Sex, dtype: object\n",
      "0    group C\n",
      "Name: Ethnicity, dtype: object\n",
      "0    some college\n",
      "Name: PLE, dtype: object\n",
      "0    standard\n",
      "Name: Lunch, dtype: object\n",
      "0    none\n",
      "Name: Test_Prep, dtype: object\n"
     ]
    }
   ],
   "source": [
    "##Get modes for catagorical data \n",
    "for x in stu_exams_df.columns:\n",
    "    if stu_exams_df[x].dtype != 'int64':\n",
    "        print(stu_exams_df[x].mode())"
   ]
  },
  {
   "cell_type": "code",
   "execution_count": 53,
   "id": "3bddf88a-d2ff-4d15-bc0f-91bd7d7b8642",
   "metadata": {},
   "outputs": [
    {
     "data": {
      "text/html": [
       "<div>\n",
       "<style scoped>\n",
       "    .dataframe tbody tr th:only-of-type {\n",
       "        vertical-align: middle;\n",
       "    }\n",
       "\n",
       "    .dataframe tbody tr th {\n",
       "        vertical-align: top;\n",
       "    }\n",
       "\n",
       "    .dataframe thead th {\n",
       "        text-align: right;\n",
       "    }\n",
       "</style>\n",
       "<table border=\"1\" class=\"dataframe\">\n",
       "  <thead>\n",
       "    <tr style=\"text-align: right;\">\n",
       "      <th></th>\n",
       "      <th>count</th>\n",
       "      <th>mean</th>\n",
       "      <th>std</th>\n",
       "      <th>min</th>\n",
       "      <th>25%</th>\n",
       "      <th>50%</th>\n",
       "      <th>75%</th>\n",
       "      <th>max</th>\n",
       "    </tr>\n",
       "  </thead>\n",
       "  <tbody>\n",
       "    <tr>\n",
       "      <th>Student_ID</th>\n",
       "      <td>1000.0</td>\n",
       "      <td>500.500</td>\n",
       "      <td>288.819436</td>\n",
       "      <td>1.0</td>\n",
       "      <td>250.75</td>\n",
       "      <td>500.5</td>\n",
       "      <td>750.25</td>\n",
       "      <td>1000.0</td>\n",
       "    </tr>\n",
       "    <tr>\n",
       "      <th>Math_Score</th>\n",
       "      <td>1000.0</td>\n",
       "      <td>67.810</td>\n",
       "      <td>15.250196</td>\n",
       "      <td>15.0</td>\n",
       "      <td>58.00</td>\n",
       "      <td>68.0</td>\n",
       "      <td>79.25</td>\n",
       "      <td>100.0</td>\n",
       "    </tr>\n",
       "    <tr>\n",
       "      <th>Reading_Score</th>\n",
       "      <td>1000.0</td>\n",
       "      <td>70.382</td>\n",
       "      <td>14.107413</td>\n",
       "      <td>25.0</td>\n",
       "      <td>61.00</td>\n",
       "      <td>70.5</td>\n",
       "      <td>80.00</td>\n",
       "      <td>100.0</td>\n",
       "    </tr>\n",
       "    <tr>\n",
       "      <th>Writing_Score</th>\n",
       "      <td>1000.0</td>\n",
       "      <td>69.140</td>\n",
       "      <td>15.025917</td>\n",
       "      <td>15.0</td>\n",
       "      <td>59.00</td>\n",
       "      <td>70.0</td>\n",
       "      <td>80.00</td>\n",
       "      <td>100.0</td>\n",
       "    </tr>\n",
       "  </tbody>\n",
       "</table>\n",
       "</div>"
      ],
      "text/plain": [
       "                count     mean         std   min     25%    50%     75%  \\\n",
       "Student_ID     1000.0  500.500  288.819436   1.0  250.75  500.5  750.25   \n",
       "Math_Score     1000.0   67.810   15.250196  15.0   58.00   68.0   79.25   \n",
       "Reading_Score  1000.0   70.382   14.107413  25.0   61.00   70.5   80.00   \n",
       "Writing_Score  1000.0   69.140   15.025917  15.0   59.00   70.0   80.00   \n",
       "\n",
       "                  max  \n",
       "Student_ID     1000.0  \n",
       "Math_Score      100.0  \n",
       "Reading_Score   100.0  \n",
       "Writing_Score   100.0  "
      ]
     },
     "execution_count": 53,
     "metadata": {},
     "output_type": "execute_result"
    }
   ],
   "source": [
    "## get stat summary of numerical data/ test scores\n",
    "stu_exams_df.describe().T"
   ]
  },
  {
   "cell_type": "code",
   "execution_count": 13,
   "id": "eacce1f7-16a4-42a8-b819-679492e9931a",
   "metadata": {},
   "outputs": [
    {
     "data": {
      "text/plain": [
       "Math_Score       67.810\n",
       "Reading_Score    70.382\n",
       "Writing_Score    69.140\n",
       "dtype: float64"
      ]
     },
     "execution_count": 13,
     "metadata": {},
     "output_type": "execute_result"
    }
   ],
   "source": [
    "### just means of test scores\n",
    "stu_exams_df[['Math_Score', 'Reading_Score', 'Writing_Score']].mean()"
   ]
  },
  {
   "cell_type": "code",
   "execution_count": 51,
   "id": "b11fa65c-ee68-4d8d-beba-094cb95a44be",
   "metadata": {},
   "outputs": [
    {
     "data": {
      "text/html": [
       "<div>\n",
       "<style scoped>\n",
       "    .dataframe tbody tr th:only-of-type {\n",
       "        vertical-align: middle;\n",
       "    }\n",
       "\n",
       "    .dataframe tbody tr th {\n",
       "        vertical-align: top;\n",
       "    }\n",
       "\n",
       "    .dataframe thead th {\n",
       "        text-align: right;\n",
       "    }\n",
       "</style>\n",
       "<table border=\"1\" class=\"dataframe\">\n",
       "  <thead>\n",
       "    <tr style=\"text-align: right;\">\n",
       "      <th></th>\n",
       "      <th>Student_ID</th>\n",
       "      <th>Sex</th>\n",
       "      <th>Ethnicity</th>\n",
       "      <th>PLE</th>\n",
       "      <th>Lunch</th>\n",
       "      <th>Test_Prep</th>\n",
       "      <th>Math_Score</th>\n",
       "      <th>Reading_Score</th>\n",
       "      <th>Writing_Score</th>\n",
       "    </tr>\n",
       "  </thead>\n",
       "  <tbody>\n",
       "    <tr>\n",
       "      <th>1</th>\n",
       "      <td>2</td>\n",
       "      <td>male</td>\n",
       "      <td>group D</td>\n",
       "      <td>associate degree</td>\n",
       "      <td>standard</td>\n",
       "      <td>none</td>\n",
       "      <td>96</td>\n",
       "      <td>93</td>\n",
       "      <td>87</td>\n",
       "    </tr>\n",
       "    <tr>\n",
       "      <th>3</th>\n",
       "      <td>4</td>\n",
       "      <td>male</td>\n",
       "      <td>group B</td>\n",
       "      <td>some college</td>\n",
       "      <td>reduced</td>\n",
       "      <td>none</td>\n",
       "      <td>70</td>\n",
       "      <td>70</td>\n",
       "      <td>63</td>\n",
       "    </tr>\n",
       "    <tr>\n",
       "      <th>4</th>\n",
       "      <td>5</td>\n",
       "      <td>female</td>\n",
       "      <td>group D</td>\n",
       "      <td>associate degree</td>\n",
       "      <td>standard</td>\n",
       "      <td>none</td>\n",
       "      <td>83</td>\n",
       "      <td>85</td>\n",
       "      <td>86</td>\n",
       "    </tr>\n",
       "    <tr>\n",
       "      <th>6</th>\n",
       "      <td>7</td>\n",
       "      <td>female</td>\n",
       "      <td>group E</td>\n",
       "      <td>associate degree</td>\n",
       "      <td>standard</td>\n",
       "      <td>none</td>\n",
       "      <td>82</td>\n",
       "      <td>83</td>\n",
       "      <td>80</td>\n",
       "    </tr>\n",
       "    <tr>\n",
       "      <th>8</th>\n",
       "      <td>9</td>\n",
       "      <td>male</td>\n",
       "      <td>group C</td>\n",
       "      <td>some high school</td>\n",
       "      <td>standard</td>\n",
       "      <td>none</td>\n",
       "      <td>80</td>\n",
       "      <td>75</td>\n",
       "      <td>73</td>\n",
       "    </tr>\n",
       "  </tbody>\n",
       "</table>\n",
       "</div>"
      ],
      "text/plain": [
       "   Student_ID     Sex Ethnicity               PLE     Lunch Test_Prep  \\\n",
       "1           2    male   group D  associate degree  standard      none   \n",
       "3           4    male   group B      some college   reduced      none   \n",
       "4           5  female   group D  associate degree  standard      none   \n",
       "6           7  female   group E  associate degree  standard      none   \n",
       "8           9    male   group C  some high school  standard      none   \n",
       "\n",
       "   Math_Score  Reading_Score  Writing_Score  \n",
       "1          96             93             87  \n",
       "3          70             70             63  \n",
       "4          83             85             86  \n",
       "6          82             83             80  \n",
       "8          80             75             73  "
      ]
     },
     "execution_count": 51,
     "metadata": {},
     "output_type": "execute_result"
    }
   ],
   "source": [
    "##dataframe only showing math scores above  or equal to 70 (is this our threshold?) Should we base it off of mean/ average?\n",
    "math_pass_df = stu_exams_df[(stu_exams_df.Math_Score >= 70)]\n",
    "math_pass_df.head()"
   ]
  },
  {
   "cell_type": "code",
   "execution_count": 52,
   "id": "e57a3fb5-7489-4172-910e-f19dcf5f4eda",
   "metadata": {},
   "outputs": [
    {
     "data": {
      "text/plain": [
       "464"
      ]
     },
     "execution_count": 52,
     "metadata": {},
     "output_type": "execute_result"
    }
   ],
   "source": [
    "##Count of students >= 70 math score(passing?)\n",
    "math_pass_df.Student_ID.count()"
   ]
  },
  {
   "cell_type": "code",
   "execution_count": null,
   "id": "4a064e2a-4784-47d6-a5fa-e99a54d27da0",
   "metadata": {},
   "outputs": [],
   "source": []
  },
  {
   "cell_type": "code",
   "execution_count": null,
   "id": "6ce325d2-9151-4fa8-826c-71563171ce8a",
   "metadata": {},
   "outputs": [],
   "source": []
  },
  {
   "cell_type": "code",
   "execution_count": null,
   "id": "d6ef35b6-9e6f-4afa-a62d-52632ca5b0d1",
   "metadata": {},
   "outputs": [],
   "source": []
  },
  {
   "cell_type": "code",
   "execution_count": 55,
   "id": "5b305b23-0106-4530-9da7-e7d5a60d288a",
   "metadata": {},
   "outputs": [
    {
     "name": "stdout",
     "output_type": "stream",
     "text": [
      "Min Value 15\n",
      "Max Value  100\n",
      "Q1  58.0\n",
      "Q3  79.25\n",
      "IQR  21.25\n",
      "lower_limit 26.125\n",
      "upper_limit 111.125\n"
     ]
    }
   ],
   "source": [
    "#we know Q3 AND Q1 AND IQR=Q3-Q1, any data point which is less than Q1-1.5IQR or Q3+1.5IQR are consider as outlier\n",
    "# Analysis on Target feature\n",
    "Q1=stu_exams_df.Math_Score.quantile(.25)\n",
    "Q3=stu_exams_df.Math_Score.quantile(.75)\n",
    "IQR=Q3-Q1\n",
    "lower_limit=Q1-(1.5*IQR)\n",
    "upper_limit=Q3+(1.5*IQR)\n",
    "print(\"Min Value\",stu_exams_df.Math_Score.min())\n",
    "print(\"Max Value \",stu_exams_df.Math_Score.max())\n",
    "print(\"Q1 \",Q1)\n",
    "print(\"Q3 \",Q3)\n",
    "print(\"IQR \",IQR)\n",
    "print('lower_limit',lower_limit)\n",
    "print('upper_limit',upper_limit)"
   ]
  },
  {
   "cell_type": "code",
   "execution_count": 60,
   "id": "40d6d1c4-a4f4-4848-ad6b-7acecbd28e23",
   "metadata": {},
   "outputs": [],
   "source": [
    "## Analysis of continous variables\n",
    "def findoutliers(column):\n",
    "    outliers=[]\n",
    "    Q1=column.quantile(.25)\n",
    "    Q3=column.quantile(.75)\n",
    "    IQR=Q3-Q1\n",
    "    lower_limit=Q1-(1.5*IQR)\n",
    "    upper_limit=Q3+(1.5*IQR)\n",
    "    for out1 in column:\n",
    "        if out1>upper_limit or out1 <lower_limit:\n",
    "            outliers.append(out1)\n",
    "    \n",
    "    return np.array(outliers)"
   ]
  },
  {
   "cell_type": "code",
   "execution_count": 61,
   "id": "7c2f881d-87a8-4c87-bf7d-6611cde38a86",
   "metadata": {},
   "outputs": [
    {
     "data": {
      "text/plain": [
       "array([23, 20, 21, 25, 15, 24])"
      ]
     },
     "execution_count": 61,
     "metadata": {},
     "output_type": "execute_result"
    }
   ],
   "source": [
    "#find the outliers(This can be applied to any of the scores)\n",
    "findoutliers(stu_exams_df.Math_Score)"
   ]
  },
  {
   "cell_type": "code",
   "execution_count": 62,
   "id": "cfa643d4-78ba-43a0-ae72-bc7c21343ee5",
   "metadata": {},
   "outputs": [
    {
     "data": {
      "text/plain": [
       "<Axes: >"
      ]
     },
     "execution_count": 62,
     "metadata": {},
     "output_type": "execute_result"
    },
    {
     "data": {
      "image/png": "[encoded data removed]",
      "text/plain": [
       "<Figure size 640x480 with 1 Axes>"
      ]
     },
     "metadata": {},
     "output_type": "display_data"
    }
   ],
   "source": [
    "stu_exams_df.Math_Score.hist()  "
   ]
  },
  {
   "cell_type": "code",
   "execution_count": null,
   "id": "fb35180b-c5bc-4fbe-8c0a-fea2d50480ff",
   "metadata": {},
   "outputs": [],
   "source": []
  }
 ],
 "metadata": {
  "kernelspec": {
   "display_name": "mlenv",
   "language": "python",
   "name": "mlenv"
  },
  "language_info": {
   "codemirror_mode": {
    "name": "ipython",
    "version": 3
   },
   "file_extension": ".py",
   "mimetype": "text/x-python",
   "name": "python",
   "nbconvert_exporter": "python",
   "pygments_lexer": "ipython3",
   "version": "3.10.10"
  }
 },
 "nbformat": 4,
 "nbformat_minor": 5
}
